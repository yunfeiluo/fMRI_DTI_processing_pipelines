{
 "cells": [
  {
   "cell_type": "code",
   "execution_count": 1,
   "metadata": {},
   "outputs": [
    {
     "name": "stdout",
     "output_type": "stream",
     "text": [
      "import complete.\n"
     ]
    }
   ],
   "source": [
    "# import packages\n",
    "%matplotlib inline\n",
    "import matplotlib.pyplot as plt\n",
    "\n",
    "from dipy.core.gradients import gradient_table\n",
    "from dipy.data import get_fnames, default_sphere\n",
    "from dipy.io.gradients import read_bvals_bvecs\n",
    "from dipy.io.image import load_nifti, load_nifti_data\n",
    "\n",
    "from dipy.direction import DeterministicMaximumDirectionGetter\n",
    "from dipy.io.stateful_tractogram import Space, StatefulTractogram\n",
    "from dipy.io.streamline import save_trk\n",
    "from dipy.reconst.csdeconv import (ConstrainedSphericalDeconvModel,\n",
    "                                   auto_response)\n",
    "from dipy.reconst.shm import CsaOdfModel\n",
    "\n",
    "from dipy.tracking import utils\n",
    "from dipy.tracking.local_tracking import LocalTracking\n",
    "from dipy.tracking.stopping_criterion import ThresholdStoppingCriterion\n",
    "from dipy.tracking.streamline import Streamlines\n",
    "from dipy.viz import window, actor, colormap, has_fury\n",
    "\n",
    "print('import complete.')"
   ]
  },
  {
   "cell_type": "code",
   "execution_count": 2,
   "metadata": {},
   "outputs": [
    {
     "name": "stdout",
     "output_type": "stream",
     "text": [
      "data loading complete.\n"
     ]
    }
   ],
   "source": [
    "# Enables/disables interactive visualization\n",
    "interactive = False\n",
    "\n",
    "# load data\n",
    "hardi_fname, hardi_bval_fname, hardi_bvec_fname = get_fnames('stanford_hardi')\n",
    "label_fname = get_fnames('stanford_labels')\n",
    "\n",
    "data, affine, hardi_img = load_nifti(hardi_fname, return_img=True)\n",
    "labels = load_nifti_data(label_fname)\n",
    "bvals, bvecs = read_bvals_bvecs(hardi_bval_fname, hardi_bvec_fname)\n",
    "gtab = gradient_table(bvals, bvecs)\n",
    "\n",
    "print('data loading complete.')"
   ]
  },
  {
   "cell_type": "code",
   "execution_count": 3,
   "metadata": {},
   "outputs": [
    {
     "name": "stdout",
     "output_type": "stream",
     "text": [
      "mask(s) and seed(s) set complete.\n"
     ]
    }
   ],
   "source": [
    "# set mask(s) and seed(s)\n",
    "seed_mask = labels == 2\n",
    "white_matter = (labels == 1) | (labels == 2)\n",
    "seeds = utils.seeds_from_mask(seed_mask, affine, density=1)\n",
    "\n",
    "print('mask(s) and seed(s) set complete.')"
   ]
  },
  {
   "cell_type": "code",
   "execution_count": 4,
   "metadata": {},
   "outputs": [
    {
     "name": "stdout",
     "output_type": "stream",
     "text": [
      "direction computation complete. \n"
     ]
    }
   ],
   "source": [
    "# getting directions from diffusion dataset. \n",
    "\n",
    "response, ratio = auto_response(gtab, data, roi_radius=10, fa_thr=0.7)\n",
    "\n",
    "# fit the reconstruction model with Constrained Spherical Deconvolusion (CSD)\n",
    "csd_model = ConstrainedSphericalDeconvModel(gtab, response, sh_order=6)\n",
    "csd_fit = csd_model.fit(data, mask=white_matter)\n",
    "\n",
    "# define tracking mask with Constant Solid Angle (CSA)\n",
    "csa_model = CsaOdfModel(gtab, sh_order=6)\n",
    "gfa = csa_model.fit(data, mask=white_matter).gfa\n",
    "stopping_criterion = ThresholdStoppingCriterion(gfa, .25)\n",
    "\n",
    "print('direction computation complete. ')"
   ]
  },
  {
   "cell_type": "code",
   "execution_count": 6,
   "metadata": {},
   "outputs": [
    {
     "name": "stdout",
     "output_type": "stream",
     "text": [
      "traking complete.\n"
     ]
    }
   ],
   "source": [
    "# start traking\n",
    "\n",
    "# # Initialization of LocalTracking. The computation happens in the next step.\n",
    "# csa_peaks = peaks_from_model(csa_model, data, default_sphere,\n",
    "#                              relative_peak_threshold=.8,\n",
    "#                              min_separation_angle=45,\n",
    "#                              mask=white_matter)\n",
    "# streamline_generator = LocalTracking(csa_peaks, stopping_criterion, seeds,\n",
    "#                                       affine=affine, step_size=.5)\n",
    "\n",
    "detmax_dg = DeterministicMaximumDirectionGetter.from_shcoeff(\n",
    "    csd_fit.shm_coeff, \n",
    "    max_angle=30., \n",
    "    sphere=default_sphere)\n",
    "streamline_generator = LocalTracking(detmax_dg, stopping_criterion, seeds,\n",
    "                                     affine, step_size=.5)\n",
    "\n",
    "# Generate streamlines object\n",
    "streamlines = Streamlines(streamline_generator)\n",
    "\n",
    "# sft = StatefulTractogram(streamlines, hardi_img, Space.RASMM)\n",
    "# save_trk(sft, \"tractogram_deterministic_dg.trk\")\n",
    "\n",
    "print('traking complete.')"
   ]
  },
  {
   "cell_type": "code",
   "execution_count": 11,
   "metadata": {},
   "outputs": [],
   "source": [
    "# visualzie\n",
    "\n",
    "if has_fury:\n",
    "    # Prepare the display objects.\n",
    "    color = colormap.line_colors(streamlines)\n",
    "\n",
    "    streamlines_actor = actor.line(streamlines, color)\n",
    "\n",
    "    # Create the 3D display.\n",
    "    r = window.Scene()\n",
    "    r.add(streamlines_actor)\n",
    "\n",
    "    # Save still images for this static example. Or for interactivity use\n",
    "    window.record(r, out_path='tractogram_deterministic_dg.png', size=(800, 800))\n",
    "    \n",
    "    if interactive:\n",
    "        window.show(r)"
   ]
  },
  {
   "cell_type": "code",
   "execution_count": null,
   "metadata": {},
   "outputs": [],
   "source": []
  }
 ],
 "metadata": {
  "kernelspec": {
   "display_name": "Python 3",
   "language": "python",
   "name": "python3"
  },
  "language_info": {
   "codemirror_mode": {
    "name": "ipython",
    "version": 3
   },
   "file_extension": ".py",
   "mimetype": "text/x-python",
   "name": "python",
   "nbconvert_exporter": "python",
   "pygments_lexer": "ipython3",
   "version": "3.6.8"
  }
 },
 "nbformat": 4,
 "nbformat_minor": 2
}
